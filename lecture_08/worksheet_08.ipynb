{
 "cells": [
  {
   "attachments": {},
   "cell_type": "markdown",
   "metadata": {},
   "source": [
    "# Worksheet 08\n",
    "\n",
    "Name:  Prathmesh Sonawane\n",
    "\n",
    "UID: U39215370\n",
    "\n",
    "### Topics\n",
    "\n",
    "- Soft Clustering\n",
    "- Clustering Aggregation\n",
    "\n",
    "### Probability Review\n",
    "\n",
    "Read through [the following](https://medium.com/@gallettilance/overview-of-probability-3272b72c82c8)\n",
    "\n",
    "### Soft Clustering\n",
    "\n",
    "We generate 10 data points that come from a normal distribution with mean 5 and variance 1."
   ]
  },
  {
   "cell_type": "code",
   "execution_count": 78,
   "metadata": {},
   "outputs": [
    {
     "name": "stdout",
     "output_type": "stream",
     "text": [
      "[4.9842549899902515, 3.8422770690967702, 3.8053064870179276, 5.170320918484939, 6.065765817286388, 3.90825732996152, 3.9058540115629574, 3.5286606066705626, 3.7040700613908597, 5.1997574580661725]\n"
     ]
    }
   ],
   "source": [
    "import random\n",
    "import numpy as np\n",
    "from sklearn.cluster import KMeans\n",
    "\n",
    "mean = 5\n",
    "stdev = 1\n",
    "\n",
    "s1 = np.random.normal(mean, stdev, 10).tolist()\n",
    "print(s1)"
   ]
  },
  {
   "cell_type": "markdown",
   "metadata": {},
   "source": [
    "a) Generate 10 more data points, this time coming from a normal distribution with mean 8 and variance 1."
   ]
  },
  {
   "cell_type": "code",
   "execution_count": 77,
   "metadata": {},
   "outputs": [
    {
     "name": "stdout",
     "output_type": "stream",
     "text": [
      "[8.36142819099992, 7.201808006039365, 7.989662368213676, 8.720887687882268, 6.625200072160831, 8.035787240240781, 7.605042303760434, 8.227109386977165, 7.9552634456075175, 8.017259884699836]\n"
     ]
    }
   ],
   "source": [
    "s2 = np.random.normal( 8 , 1 , 10).tolist()\n",
    "print(s2)"
   ]
  },
  {
   "attachments": {},
   "cell_type": "markdown",
   "metadata": {},
   "source": [
    "b) Flip a fair coin 10 times. If the coin lands on H, then pick the last data point of `s1` and remove it from `s1`, if T then pick the last data point from `s2` and remove it from `s2`. Add these 10 points to a list called `data`."
   ]
  },
  {
   "cell_type": "code",
   "execution_count": 79,
   "metadata": {},
   "outputs": [
    {
     "name": "stdout",
     "output_type": "stream",
     "text": [
      "[5.1997574580661725, 3.7040700613908597, 3.5286606066705626, 8.017259884699836, 3.9058540115629574, 3.90825732996152, 6.065765817286388, 5.170320918484939, 3.8053064870179276, 7.9552634456075175]\n"
     ]
    }
   ],
   "source": [
    "data = []\n",
    "for i in range(10):\n",
    "    # flip coin\n",
    "    coin_output = random.choice([0, 1])\n",
    "    if coin_output == 0:\n",
    "        p1 = s1[len(s1)-1]\n",
    "        s1.remove(p1)\n",
    "        data.append(p1)\n",
    "    else:\n",
    "        p2 = s2[len(s2)-1]\n",
    "        s2.remove(p2)\n",
    "        data.append(p2)\n",
    "print(data)"
   ]
  },
  {
   "cell_type": "markdown",
   "metadata": {},
   "source": [
    "c) This `data` is a Gaussian Mixture Distribution with 2 mixture components. Over the next few questions we will walk through the GMM algorithm to see if we can uncover the parameters we used to generate this data. First, please list all these parameters of the GMM that created `data` and the values we know they have."
   ]
  },
  {
   "cell_type": "markdown",
   "metadata": {},
   "source": [
    "Parameters of the GMM: \n",
    "\n",
    "Species One :\n",
    "\n",
    "  -Mean: 5\n",
    "\n",
    "  -Variance: 1\n",
    "\n",
    "\n",
    "Species Two: \n",
    "\n",
    "  -Mean: 8\n",
    "\n",
    "  -Variance: 1\n",
    "  \n",
    "Probability of a given point being Species 1: 0.5 \n",
    "\n",
    "Probability of a given point being Species 2: 0.5 "
   ]
  },
  {
   "cell_type": "markdown",
   "metadata": {},
   "source": [
    "d) Let's assume there are two mixture components (note: we could plot the data and make the observation that there are two clusters). The EM algorithm asks us to start with a random `mean_j`, `variance_j`, `P(S_j)` for each component j. One method we could use to find sensible values for these is to apply K means with k=2 here.\n",
    "\n",
    "1. the centroids would be the estimates of the `mean_j`\n",
    "2. the intra-cluster variance could be the estimate of `variance_j`\n",
    "3. the proportion of points in each cluster could be the estimate of `P(S_j)`\n",
    "\n",
    "Go through this process and list the parameter estimates it gives. Are they close or far from the true values?"
   ]
  },
  {
   "cell_type": "code",
   "execution_count": 80,
   "metadata": {},
   "outputs": [
    {
     "name": "stdout",
     "output_type": "stream",
     "text": [
      "[5.1997574580661725, 3.7040700613908597, 3.5286606066705626, 3.9058540115629574, 3.90825732996152, 5.170320918484939, 3.8053064870179276]\n",
      "[8.017259884699836, 6.065765817286388, 7.9552634456075175]\n",
      "P(S_1) = 0.7,  P(S_2) = 0.3\n",
      "mean_1 = 4.174603839022135,  mean_2 = 7.346096382531247\n",
      "var_1 = 0.4229406581616018,  var_2 = 2.460791313680396\n"
     ]
    },
    {
     "name": "stderr",
     "output_type": "stream",
     "text": [
      "/Users/prathmesh/anaconda3/lib/python3.11/site-packages/sklearn/cluster/_kmeans.py:1412: FutureWarning: The default value of `n_init` will change from 10 to 'auto' in 1.4. Set the value of `n_init` explicitly to suppress the warning\n",
      "  super()._check_params_vs_input(X, default_n_init=10)\n"
     ]
    }
   ],
   "source": [
    "kmeans = KMeans(2, init='k-means++').fit(X=np.array(data).reshape(-1, 1))\n",
    "\n",
    "s1 = [x[0] for x in filter(lambda x: x[1] == 0, zip(data, kmeans.labels_))]\n",
    "print(s1)\n",
    "s2 =  [x[0] for x in filter(lambda x: x[1] == 1, zip(data, kmeans.labels_))]\n",
    "print(s2)\n",
    "\n",
    "prob_s = [ len(s1) / (len(s1) + len(s2)) , len(s2) / (len(s1) + len(s2))]\n",
    "mean = [ sum(s1)/len(s1) ,  sum(s2)/len(s2) ]\n",
    "var = [ sum(map(lambda x : (x - mean[0])**2, s1)) / len(s1) , sum(map(lambda x : (x - mean[1])**2, s2))  ]\n",
    "\n",
    "print(\"P(S_1) = \" + str(prob_s[0]) + \",  P(S_2) = \" + str(prob_s[1]))\n",
    "print(\"mean_1 = \" + str(mean[0]) + \",  mean_2 = \" + str(mean[1]))\n",
    "print(\"var_1 = \" + str(var[0]) + \",  var_2 = \" + str(var[1]))"
   ]
  },
  {
   "cell_type": "markdown",
   "metadata": {},
   "source": [
    "This analysis is relatively close to some of our values. \n",
    "\n",
    "Though we have a 50 percent chance of getting a point from either cluster, in our analysis, we find that almost 0.70 percent of points belong to one, with the rest belonging to another.\n",
    "\n",
    "In addition, the estimated means of our data points in the cluster are 4.17 and 7.34, which are close to 5 and 8 respectively. \n",
    "\n",
    "The variances we estimated are also 0.423 and 2.46 which are not close to initial variances of 1. This could be due to the fact that we have a small sample size. \n",
    "\n",
    "In total, though the estimations are close, they could be better. However, as is, they provide us with a good idea of how some of our clusters look. \n"
   ]
  },
  {
   "cell_type": "markdown",
   "metadata": {},
   "source": [
    "e) For each data point, compute `P(S_j | X_i)`. Comment on which cluster you think each point belongs to based on the estimated probabilities. How does that compare to the truth?"
   ]
  },
  {
   "cell_type": "code",
   "execution_count": 91,
   "metadata": {},
   "outputs": [
    {
     "name": "stdout",
     "output_type": "stream",
     "text": [
      "[5.1997574580661725, 3.7040700613908597, 3.5286606066705626, 8.017259884699836, 3.9058540115629574, 3.90825732996152, 6.065765817286388, 5.170320918484939, 3.8053064870179276, 7.9552634456075175]\n",
      "point =  5.1997574580661725\n",
      "probability of observing that point if it came from cluster 0 =  0.17274254393755506\n",
      "probability of observing that point if it came from cluster 1 =  0.07966396048490827\n",
      "point =  3.7040700613908597\n",
      "probability of observing that point if it came from cluster 0 =  0.4788329070083308\n",
      "probability of observing that point if it came from cluster 1 =  0.04493324764987685\n",
      "point =  3.5286606066705626\n",
      "probability of observing that point if it came from cluster 0 =  0.3868821148939514\n",
      "probability of observing that point if it came from cluster 1 =  0.04139590488232727\n",
      "point =  8.017259884699836\n",
      "probability of observing that point if it came from cluster 0 =  2.577661939312275e-08\n",
      "probability of observing that point if it came from cluster 1 =  0.12663932722344662\n",
      "point =  3.9058540115629574\n",
      "probability of observing that point if it came from cluster 0 =  0.5612864737987765\n",
      "probability of observing that point if it came from cluster 1 =  0.049188014826288\n",
      "point =  3.90825732996152\n",
      "probability of observing that point if it came from cluster 0 =  0.5620363851215309\n",
      "probability of observing that point if it came from cluster 1 =  0.04923982289141541\n",
      "point =  6.065765817286388\n",
      "probability of observing that point if it came from cluster 0 =  0.009387738757408004\n",
      "probability of observing that point if it came from cluster 1 =  0.10006723025062618\n",
      "point =  5.170320918484939\n",
      "probability of observing that point if it came from cluster 0 =  0.1850953851696269\n",
      "probability of observing that point if it came from cluster 1 =  0.0789434789699765\n",
      "point =  3.8053064870179276\n",
      "probability of observing that point if it came from cluster 0 =  0.5245913587106033\n",
      "probability of observing that point if it came from cluster 1 =  0.04704401835872453\n",
      "point =  7.9552634456075175\n",
      "probability of observing that point if it came from cluster 0 =  4.4224448978639054e-08\n",
      "probability of observing that point if it came from cluster 1 =  0.12644299239311194\n",
      "5.1997574580661725\n",
      "Probability of coming from S_1 = 0.8349719768983809\n",
      "Probability of coming from S_2 = 0.16502802310161913\n",
      "\n",
      "3.7040700613908597\n",
      "Probability of coming from S_1 = 0.9613381002881211\n",
      "Probability of coming from S_2 = 0.038661899711878965\n",
      "\n",
      "3.5286606066705626\n",
      "Probability of coming from S_1 = 0.9561540184852436\n",
      "Probability of coming from S_2 = 0.04384598151475641\n",
      "\n",
      "8.017259884699836\n",
      "Probability of coming from S_1 = 4.749347458182199e-07\n",
      "Probability of coming from S_2 = 0.9999995250652542\n",
      "\n",
      "3.9058540115629574\n",
      "Probability of coming from S_1 = 0.9638019051293362\n",
      "Probability of coming from S_2 = 0.0361980948706638\n",
      "\n",
      "3.90825732996152\n",
      "Probability of coming from S_1 = 0.9638117580561814\n",
      "Probability of coming from S_2 = 0.03618824194381863\n",
      "\n",
      "6.065765817286388\n",
      "Probability of coming from S_1 = 0.17958820077661986\n",
      "Probability of coming from S_2 = 0.82041179922338\n",
      "\n",
      "5.170320918484939\n",
      "Probability of coming from S_1 = 0.8454611905912905\n",
      "Probability of coming from S_2 = 0.1545388094087095\n",
      "\n",
      "3.8053064870179276\n",
      "Probability of coming from S_1 = 0.9629892462072007\n",
      "Probability of coming from S_2 = 0.03701075379279934\n",
      "\n",
      "7.9552634456075175\n",
      "Probability of coming from S_1 = 8.161013495752255e-07\n",
      "Probability of coming from S_2 = 0.9999991838986505\n",
      "\n"
     ]
    }
   ],
   "source": [
    "from scipy.stats import norm\n",
    "\n",
    "prob_s0_x = [] # P(S_0 | X_i)\n",
    "prob_s1_x = [] # P(S_1 | X_i)\n",
    "prob_x = [] # P(X_i)\n",
    "\n",
    "k = 2\n",
    "\n",
    "print(data)\n",
    "for p in data:\n",
    "    print(\"point = \", p)\n",
    "    pdf_i = []\n",
    "\n",
    "    for j in range(k):\n",
    "        # P(X_i | S_j)\n",
    "        pdf_i.append(norm.pdf(p, mean[j], var[j]**0.5))\n",
    "        print(\"probability of observing that point if it came from cluster \" + str(j) + \" = \", pdf_i[j])\n",
    "        # P(S_j) already computed\n",
    "        prob_s[j]\n",
    "\n",
    "    # P(X_i) = P(S_0)P(X_i | S_0) + P(S_1)P(X_i | S_1)\n",
    "    prob_x = prob_s[0] * pdf_i[0] + prob_s[1] * pdf_i[1]\n",
    "\n",
    "    # P(S_j | X_i) = P(X_i | S_j)P(S_j) / P(X_i)\n",
    "    prob_s0_x.append( pdf_i[0] *  prob_s[0] / prob_x )\n",
    "    prob_s1_x.append(pdf_i[1] *  prob_s[1] / prob_x)\n",
    "\n",
    "probs = zip(data, prob_s0_x, prob_s1_x)\n",
    "for p in probs:\n",
    "    print(p[0])\n",
    "    print(\"Probability of coming from S_1 = \" + str(p[1]))\n",
    "    print(\"Probability of coming from S_2 = \" + str(p[2]))\n",
    "    print()\n"
   ]
  },
  {
   "cell_type": "markdown",
   "metadata": {},
   "source": [
    "Our list of points that this program recieves is:\n",
    " [5.1997574580661725, 3.7040700613908597, 3.5286606066705626, 8.017259884699836, 3.9058540115629574, 3.90825732996152, 6.065765817286388, 5.170320918484939, 3.8053064870179276, 7.9552634456075175]\n",
    "\n",
    "If the cluster with mean 5 is named \"Cluster One\" and the cluster with mean 8 is named \"Cluster Two\", then each point in our above list can be mapped to this where each indice maps a point to a cluster: \n",
    "\n",
    "[\"Cluster One\", \"Cluster One\", \"Cluster One\", \"Cluster Two\", \"Cluster One\", \"Cluster One\", \"Cluster One\", \"Cluster One\", \"Cluster One\", \"Cluster Two\"]\n",
    "\n",
    "This was found by purely looking at the probabilities and assigning them accordingly. I would say that it compares pretty closely to the truth. The only point that did not have a very high probability (like 90% or more) of being from one cluster or another was point \"6.065765817286388\", but I would say that it is still accurate. "
   ]
  },
  {
   "cell_type": "markdown",
   "metadata": {},
   "source": [
    "f) Having computed `P(S_j | X_i)`, update the estimates of `mean_j`, `var_j`, and `P(S_j)`. How different are these values from the original ones you got from K means? briefly comment."
   ]
  },
  {
   "cell_type": "code",
   "execution_count": 96,
   "metadata": {},
   "outputs": [
    {
     "name": "stdout",
     "output_type": "stream",
     "text": [
      "P(S_1) = 0.7,  P(S_2) = 0.3\n",
      "mean_1 = 4.189019877649082,  mean_2 = 7.001339271108808\n",
      "var_1 = 0.485560967038552,  var_2 = 1.7209864363814171\n"
     ]
    }
   ],
   "source": [
    "prob_c = [sum(prob_s0_x)/len(prob_s0_x), sum(prob_s1_x)/len(prob_s1_x)]\n",
    "mean = [sum([x[0] * x[1] for x in zip(prob_s0_x, data)]) / sum(prob_s0_x), sum([x[0] * x[1] for x in zip(prob_s1_x, data)]) / sum(prob_s1_x)]\n",
    "var = [sum([x[0] * (x[1] - mean[0])**2 for x in zip(prob_s0_x, data)]) / sum(prob_s0_x), sum([x[0] * (x[1] - mean[1])**2 for x in zip(prob_s1_x, data)]) / sum(prob_s1_x)]\n",
    "\n",
    "print(\"P(S_1) = \" + str(prob_s[0]) + \",  P(S_2) = \" + str(prob_s[1]))\n",
    "print(\"mean_1 = \" + str(mean[0]) + \",  mean_2 = \" + str(mean[1]))\n",
    "print(\"var_1 = \" + str(var[0]) + \",  var_2 = \" + str(var[1]))"
   ]
  },
  {
   "cell_type": "markdown",
   "metadata": {},
   "source": [
    "Firstly, the proportion of points from each cluster stayed the same. \n",
    "\n",
    "In addition, both means here are slighly lower than the means calculated for both cluster using k-means. \n",
    "\n",
    "Lastly, both variances are lower than those found using k-means. However, The variance for cluster 2 almost 0.7 value lower than that estimated from k-means. "
   ]
  },
  {
   "cell_type": "markdown",
   "metadata": {},
   "source": [
    "g) Update `P(S_j | X_i)`. Comment on any differences or lack thereof you observe."
   ]
  },
  {
   "cell_type": "code",
   "execution_count": 97,
   "metadata": {},
   "outputs": [
    {
     "name": "stdout",
     "output_type": "stream",
     "text": [
      "point =  5.1997574580661725\n",
      "probability of observing that point if it came from cluster 0 =  0.1999510651452784\n",
      "probability of observing that point if it came from cluster 1 =  0.11843830062679635\n",
      "point =  3.7040700613908597\n",
      "probability of observing that point if it came from cluster 0 =  0.4493815212115692\n",
      "probability of observing that point if it came from cluster 1 =  0.01291925595170025\n",
      "point =  3.5286606066705626\n",
      "probability of observing that point if it came from cluster 0 =  0.3654027358647048\n",
      "probability of observing that point if it came from cluster 1 =  0.009149594357119822\n",
      "point =  8.017259884699836\n",
      "probability of observing that point if it came from cluster 0 =  1.598643296244019e-07\n",
      "probability of observing that point if it came from cluster 1 =  0.22531791731408887\n",
      "point =  3.9058540115629574\n",
      "probability of observing that point if it came from cluster 0 =  0.5271444797321052\n",
      "probability of observing that point if it came from cluster 1 =  0.018793122220163334\n",
      "point =  3.90825732996152\n",
      "probability of observing that point if it came from cluster 0 =  0.5278806771236939\n",
      "probability of observing that point if it came from cluster 1 =  0.018874504821849783\n",
      "point =  6.065765817286388\n",
      "probability of observing that point if it came from cluster 0 =  0.015227886518136792\n",
      "probability of observing that point if it came from cluster 1 =  0.2358195207217548\n",
      "point =  5.170320918484939\n",
      "probability of observing that point if it came from cluster 0 =  0.21239656448429448\n",
      "probability of observing that point if it came from cluster 1 =  0.11481536625862604\n",
      "point =  3.8053064870179276\n",
      "probability of observing that point if it came from cluster 0 =  0.4919748826865491\n",
      "probability of observing that point if it came from cluster 1 =  0.01563797135572718\n",
      "point =  7.9552634456075175\n",
      "probability of observing that point if it came from cluster 0 =  2.5960401816774565e-07\n",
      "probability of observing that point if it came from cluster 1 =  0.23345585460296125\n",
      "5.1997574580661725\n",
      "Probability of coming from S_1 = 0.7975381775778521\n",
      "Probability of coming from S_2 = 0.20246182242214789\n",
      "\n",
      "3.7040700613908597\n",
      "Probability of coming from S_1 = 0.9878289718631218\n",
      "Probability of coming from S_2 = 0.012171028136878126\n",
      "\n",
      "3.5286606066705626\n",
      "Probability of coming from S_1 = 0.989382615740114\n",
      "Probability of coming from S_2 = 0.010617384259886078\n",
      "\n",
      "8.017259884699836\n",
      "Probability of coming from S_1 = 1.6555103830047065e-06\n",
      "Probability of coming from S_2 = 0.9999983444896169\n",
      "\n",
      "3.9058540115629574\n",
      "Probability of coming from S_1 = 0.9849510179791185\n",
      "Probability of coming from S_2 = 0.01504898202088148\n",
      "\n",
      "3.90825732996152\n",
      "Probability of coming from S_1 = 0.984907593225663\n",
      "Probability of coming from S_2 = 0.015092406774337012\n",
      "\n",
      "6.065765817286388\n",
      "Probability of coming from S_1 = 0.1309436917367905\n",
      "Probability of coming from S_2 = 0.8690563082632095\n",
      "\n",
      "5.170320918484939\n",
      "Probability of coming from S_1 = 0.8119036963624016\n",
      "Probability of coming from S_2 = 0.18809630363759847\n",
      "\n",
      "3.8053064870179276\n",
      "Probability of coming from S_1 = 0.986560460046268\n",
      "Probability of coming from S_2 = 0.013439539953732082\n",
      "\n",
      "7.9552634456075175\n",
      "Probability of coming from S_1 = 2.5946710070099263e-06\n",
      "Probability of coming from S_2 = 0.9999974053289931\n",
      "\n"
     ]
    }
   ],
   "source": [
    "prob_s0_x = [] # P(S_0 | X_i)\n",
    "prob_s1_x = [] # P(S_1 | X_i)\n",
    "prob_x = [] # P(X_i)\n",
    "\n",
    "k = 2\n",
    "\n",
    "for p in data:\n",
    "    print(\"point = \", p)\n",
    "    pdf_i = []\n",
    "\n",
    "    for j in range(k):\n",
    "        # P(X_i | S_j)\n",
    "        # pdf_i.append(norm.pdf(p, mean[j], var[j]))\n",
    "        pdf_i.append(norm.pdf(p, mean[j], var[j]**0.5))\n",
    "        print(\"probability of observing that point if it came from cluster \" + str(j) + \" = \", pdf_i[j])\n",
    "        # P(S_j) already computed\n",
    "        prob_s[j]\n",
    "\n",
    "    # P(X_i) = P(S_0)P(X_i | S_0) + P(S_1)P(X_i | S_1)\n",
    "    prob_x = prob_s[0] * pdf_i[0] + prob_s[1] * pdf_i[1]\n",
    "\n",
    "    # P(S_j | X_i) = P(X_i | S_j)P(S_j) / P(X_i)\n",
    "    prob_s0_x.append(pdf_i[0]*prob_s[0] / prob_x)\n",
    "    prob_s1_x.append(pdf_i[1]*prob_s[1] / prob_x)\n",
    "\n",
    "probs = zip(data, prob_s0_x, prob_s1_x)\n",
    "for p in probs:\n",
    "    print(p[0])\n",
    "    print(\"Probability of coming from S_1 = \" + str(p[1]))\n",
    "    print(\"Probability of coming from S_2 = \" + str(p[2]))\n",
    "    print()"
   ]
  },
  {
   "cell_type": "markdown",
   "metadata": {},
   "source": [
    "After reassigning these values, our probabilities for whether a point belongs to one or another cluster have become far closer to either 1 or 0, showing that our certainty has increased. Thus, we can better allocate points to one or the other cluster. "
   ]
  },
  {
   "cell_type": "markdown",
   "metadata": {},
   "source": [
    "h) Use `P(S_j | X_i)` to create a hard assignment - label each point as belonging to a specific cluster (0 or 1)"
   ]
  },
  {
   "cell_type": "code",
   "execution_count": 99,
   "metadata": {},
   "outputs": [
    {
     "name": "stdout",
     "output_type": "stream",
     "text": [
      "[[5.1997574580661725, 0], [3.7040700613908597, 0], [3.5286606066705626, 0], [8.017259884699836, 1], [3.9058540115629574, 0], [3.90825732996152, 0], [6.065765817286388, 1], [5.170320918484939, 0], [3.8053064870179276, 0], [7.9552634456075175, 1]]\n",
      "Above, 0 stands for the cluster with mean 5 and 1 stands for the cluster with mean 8\n"
     ]
    }
   ],
   "source": [
    "probs = zip(data, prob_s0_x, prob_s1_x)\n",
    "assignment = zip(data, [0 if p[1] > p[2] else 1 for p in probs])\n",
    "print([[p, i] for p, i in assignment])\n",
    "\n",
    "print(\"Above, 0 stands for the cluster with mean 5 and 1 stands for the cluster with mean 8\")"
   ]
  }
 ],
 "metadata": {
  "kernelspec": {
   "display_name": "Python 3.11.4 ('base')",
   "language": "python",
   "name": "python3"
  },
  "language_info": {
   "codemirror_mode": {
    "name": "ipython",
    "version": 3
   },
   "file_extension": ".py",
   "mimetype": "text/x-python",
   "name": "python",
   "nbconvert_exporter": "python",
   "pygments_lexer": "ipython3",
   "version": "3.11.4"
  },
  "orig_nbformat": 4,
  "vscode": {
   "interpreter": {
    "hash": "6a0b3adf0a7b81e80108459d05de564879dd9a45d1690df432e56f4a054c0c35"
   }
  }
 },
 "nbformat": 4,
 "nbformat_minor": 2
}
