{
 "cells": [
  {
   "cell_type": "markdown",
   "metadata": {},
   "source": [
    "# Worksheet 04\n",
    "\n",
    "Name:  Prathmesh Sonawane\n",
    "\n",
    "UID:U39215370\n",
    "\n",
    "### Topics\n",
    "\n",
    "- Distance & Similarity"
   ]
  },
  {
   "cell_type": "markdown",
   "metadata": {},
   "source": [
    "### Distance & Similarity\n",
    "\n",
    "#### Part 1\n",
    "\n",
    "a) In the minkowski distance, describe what the parameters p and d are."
   ]
  },
  {
   "cell_type": "markdown",
   "metadata": {},
   "source": [
    "In the Minkowski Distance formula, d specified what dimension the data being used are in. In addition, the parameter p is a parameter that specifies what type of distance we are working with, that being the Euclidean,  Manhattan, or other distance. "
   ]
  },
  {
   "cell_type": "markdown",
   "metadata": {},
   "source": [
    "b) In your own words describe the difference between the Euclidean distance and the Manhattan distance."
   ]
  },
  {
   "cell_type": "markdown",
   "metadata": {},
   "source": [
    "When calculating the euclidean distance between two points, the distance between two points is the straight line between those points. However, when calculating the Manhattan distance, a data point must travel strictly in the direction of the axes involved in the data. Thus, the Manhattan distance is more strict and often results in a longer distance between points. \n"
   ]
  },
  {
   "cell_type": "markdown",
   "metadata": {},
   "source": [
    "Consider A = (0, 0) and B = (1, 1). When:\n",
    "\n",
    "- p = 1, d(A, B) = 2\n",
    "- p = 2, d(A, B) = $\\sqrt{2} = 1.41$\n",
    "- p = 3, d(A, B) = $2^{1/3} = 1.26$\n",
    "- p = 4, d(A, B) = $2^{1/4} = 1.19$\n",
    "\n",
    "c) Describe what you think distance would look like when p is very large."
   ]
  },
  {
   "cell_type": "markdown",
   "metadata": {},
   "source": [
    "If P were very large, like infinity, distance would probably be more influenced by larger differences in the individual dimensions of the data and less sensitive to smaller differences between the dimensions. In terms of our data, if using a higher p, we would probably find a distance that is closer to the largest difference in terms in our data. "
   ]
  },
  {
   "cell_type": "markdown",
   "metadata": {},
   "source": [
    "d) Is the minkowski distance still a distance function when p < 1? Expain why / why not."
   ]
  },
  {
   "cell_type": "markdown",
   "metadata": {},
   "source": [
    "When p <1, it is no longer a distance function since the triangle inequality is violated. For example, when taking the points (0,1), (0,0), and (1,0), if p is less than 1, the distance from (1,0) to (0,1) will be larger than the distance from (1,0) → (0,0) → (0,1). However, the direct distance from (1,0) to (0,1) should be the shortest distance from these two points, creating a contradiction. Thus, when p<1, it is no longer a distance function. "
   ]
  },
  {
   "cell_type": "markdown",
   "metadata": {},
   "source": [
    "e) when would you use cosine similarity over the euclidan distance?"
   ]
  },
  {
   "cell_type": "markdown",
   "metadata": {},
   "source": [
    "We would use the cosine similarity function when the direction of our vectored data matters more to us than the magnitude of that vectored data. In addition, when the size of the documents we are working with largely varies, we should use cosine similarity to more accurately compare and contrast the data, rather than the data’s size. "
   ]
  },
  {
   "cell_type": "markdown",
   "metadata": {},
   "source": [
    "f) what does the jaccard distance account for that the manhattan distance doesn't?"
   ]
  },
  {
   "cell_type": "markdown",
   "metadata": {},
   "source": [
    "When using the Manhattan distance, though two pairs of documents may be the same distance apart, they could be extremely different or similar since we don't take into account the size of each document. Thus, we can use the Jaccard similarity to account for the size of the documents when comparing two documents by incorporating the intersection and union of the data they hold. This allows us to better compare documents with differing sizes. "
   ]
  },
  {
   "cell_type": "markdown",
   "metadata": {},
   "source": [
    "#### Part 2\n",
    "\n",
    "Consider the following two sentences:"
   ]
  },
  {
   "cell_type": "code",
   "execution_count": 6,
   "metadata": {},
   "outputs": [],
   "source": [
    "s1 = \"hello my name is Alice\"  \n",
    "s2 = \"hello my name is Bob\""
   ]
  },
  {
   "cell_type": "markdown",
   "metadata": {},
   "source": [
    "using the union of words from both sentences, we can represent each sentence as a vector. Each element of the vector represents the presence or absence of the word at that index.\n",
    "\n",
    "In this example, the union of words is (\"hello\", \"my\", \"name\", \"is\", \"Alice\", \"Bob\") so we can represent the above sentences as such:"
   ]
  },
  {
   "cell_type": "code",
   "execution_count": 7,
   "metadata": {},
   "outputs": [],
   "source": [
    "v1 = [1,    1, 1,   1, 1,    0]\n",
    "#     hello my name is Alice\n",
    "v2 = [1,    1, 1,   1, 0, 1]\n",
    "#     hello my name is    Bob"
   ]
  },
  {
   "cell_type": "markdown",
   "metadata": {},
   "source": [
    "Programmatically, we can do the following:"
   ]
  },
  {
   "cell_type": "code",
   "execution_count": 8,
   "metadata": {},
   "outputs": [
    {
     "name": "stdout",
     "output_type": "stream",
     "text": [
      "['Alice', 'hello', 'is', 'my', 'Bob', 'name']\n",
      "[1, 1, 1, 1, 0, 1]\n"
     ]
    }
   ],
   "source": [
    "corpus = [s1, s2]\n",
    "all_words = list(set([item for x in corpus for item in x.split()]))\n",
    "print(all_words)\n",
    "v1 = [1 if x in s1 else 0 for x in all_words]\n",
    "print(v1)"
   ]
  },
  {
   "cell_type": "markdown",
   "metadata": {},
   "source": [
    "Let's add a new sentence to our corpus:"
   ]
  },
  {
   "cell_type": "code",
   "execution_count": 9,
   "metadata": {},
   "outputs": [],
   "source": [
    "s3 = \"hi my name is Claude\"\n",
    "corpus.append(s3)"
   ]
  },
  {
   "cell_type": "markdown",
   "metadata": {},
   "source": [
    "a) What is the new union of words used to represent s1, s2, and s3?"
   ]
  },
  {
   "cell_type": "code",
   "execution_count": 10,
   "metadata": {},
   "outputs": [
    {
     "name": "stdout",
     "output_type": "stream",
     "text": [
      "['Alice', 'hi', 'hello', 'is', 'my', 'Claude', 'Bob', 'name']\n"
     ]
    }
   ],
   "source": [
    "all_words = list(set([item for x in corpus for item in x.split()]))\n",
    "print(all_words)"
   ]
  },
  {
   "cell_type": "markdown",
   "metadata": {},
   "source": [
    "b) Represent s1, s2, and s3 as vectors as above, using this new set of words."
   ]
  },
  {
   "cell_type": "code",
   "execution_count": 16,
   "metadata": {},
   "outputs": [
    {
     "name": "stdout",
     "output_type": "stream",
     "text": [
      "['Alice', 'hi', 'hello', 'is', 'my', 'Claude', 'Bob', 'name'] This is our word bank\n",
      "[1, 0, 1, 1, 1, 0, 0, 1] This is s1\n",
      "[0, 0, 1, 1, 1, 0, 1, 1] This is s2\n",
      "[0, 1, 0, 1, 1, 1, 0, 1] This is s3\n"
     ]
    }
   ],
   "source": [
    "a1 = [1 if x in s1 else 0 for x in all_words] #Represents S1\n",
    "a2 = [1 if x in s2 else 0 for x in all_words] #Represents S2\n",
    "a3 = [1 if x in s3 else 0 for x in all_words] #Represents S3\n",
    "\n",
    "print(str(all_words) + \" This is our word bank\")\n",
    "print(str(a1) + \" This is s1\")\n",
    "print(str(a2) + \" This is s2\")\n",
    "print(str(a3) + \" This is s3\")"
   ]
  },
  {
   "cell_type": "markdown",
   "metadata": {},
   "source": [
    "c) Write a function that computes the manhattan distance between two vectors. Which pair of vectors are the most similar under that distance function?"
   ]
  },
  {
   "cell_type": "code",
   "execution_count": 120,
   "metadata": {},
   "outputs": [
    {
     "name": "stdout",
     "output_type": "stream",
     "text": [
      "2 This is a1 and a2\n",
      "4 This is a3 and a2\n",
      "4 This is a1 and a3\n",
      "As you can see, a1 and a2 are the most similar with this function\n",
      "those Vectors are [1, 0, 1, 1, 1, 0, 0, 1] and [0, 0, 1, 1, 1, 0, 1, 1]\n"
     ]
    }
   ],
   "source": [
    "def mDistance(x,y):\n",
    "    if (len(x)!=len(y)):\n",
    "        raise RuntimeError(\"X and Y need to be the same dimension\")\n",
    "    sum = 0\n",
    "    for i in range (len(x)):\n",
    "        temp = x[i] - y[i]\n",
    "        if (temp < 0):\n",
    "            temp = temp * -1\n",
    "        sum = sum + temp\n",
    "    return sum\n",
    "\n",
    "print(str(mDistance(a1,a2)) + \" This is a1 and a2\")\n",
    "print(str(mDistance(a2,a3)) + \" This is a3 and a2\")\n",
    "print(str(mDistance(a1,a3)) + \" This is a1 and a3\")\n",
    "print(\"As you can see, a1 and a2 are the most similar with this function\")\n",
    "print(\"those Vectors are \" + str(a1) +\" and \" + str(a2))"
   ]
  },
  {
   "cell_type": "markdown",
   "metadata": {},
   "source": [
    "As we see, v1 and v2 (or the strings s1 and s2) are most similar because their distance from eachother under the manhattan distance formula is lower. "
   ]
  },
  {
   "cell_type": "markdown",
   "metadata": {},
   "source": [
    "d) Create a matrix of all these vectors (row major) and add the following sentences in vector form:\n",
    "\n",
    "- \"hi Alice\"\n",
    "- \"hello Claude\"\n",
    "- \"Bob my name is Claude\"\n",
    "- \"hi Claude my name is Alice\"\n",
    "- \"hello Bob\""
   ]
  },
  {
   "cell_type": "code",
   "execution_count": 40,
   "metadata": {},
   "outputs": [
    {
     "name": "stdout",
     "output_type": "stream",
     "text": [
      "This is our matrix\n",
      "[[1, 1, 0, 0, 0, 0, 0, 0], [0, 0, 1, 0, 1, 0, 0, 0], [0, 0, 0, 1, 1, 1, 1, 1], [1, 1, 0, 1, 1, 1, 0, 1], [0, 0, 1, 0, 0, 0, 1, 0]]\n"
     ]
    }
   ],
   "source": [
    "r1= \"hi Alice\"\n",
    "r2= \"hello Claude\"\n",
    "r3= \"Bob my name is Claude\"\n",
    "r4= \"hi Claude my name is Alice\"\n",
    "r5= \"hello Bob\"\n",
    "\n",
    "newCorpus = [r1, r2, r3, r4, r5]\n",
    "all_new_words = list(set([item for x in newCorpus for item in x.split()]))\n",
    "\n",
    "row1 = [1 if x in r1 else 0 for x in all_new_words]\n",
    "row2 = [1 if x in r2 else 0 for x in all_new_words]\n",
    "row3 = [1 if x in r3 else 0 for x in all_new_words]\n",
    "row4 = [1 if x in r4 else 0 for x in all_new_words]\n",
    "row5 = [1 if x in r5 else 0 for x in all_new_words]\n",
    "\n",
    "#Create the Matrix from the rows \n",
    "answer = [row1, row2, row3 , row4, row5]\n",
    "print(\"This is our matrix\")\n",
    "print(str(answer))"
   ]
  },
  {
   "cell_type": "markdown",
   "metadata": {},
   "source": [
    "e) How many rows and columns does this matrix have?"
   ]
  },
  {
   "cell_type": "code",
   "execution_count": 43,
   "metadata": {},
   "outputs": [
    {
     "name": "stdout",
     "output_type": "stream",
     "text": [
      "We have 5 rows which equals the number of sentences we use.\n",
      "We have 8 columns which equals the number of distict words we have in our sentences.\n"
     ]
    }
   ],
   "source": [
    "print(\"We have \" + str(len (answer)) + \" rows which equals the number of sentences we use.\")\n",
    "print(\"We have \" + str(len (answer[0])) + \" columns which equals the number of distict words we have in our sentences.\")"
   ]
  },
  {
   "cell_type": "markdown",
   "metadata": {},
   "source": [
    "f) When using the Manhattan distance, which two sentences are the most similar?"
   ]
  },
  {
   "cell_type": "code",
   "execution_count": 62,
   "metadata": {},
   "outputs": [
    {
     "name": "stdout",
     "output_type": "stream",
     "text": [
      "[0, 0, 1, 0, 1, 0, 0, 0]\n",
      "[0, 0, 1, 0, 0, 0, 1, 0]\n",
      "2\n",
      "These vectors correspond to \"hello Claude\" and \"hello Bob\".\n"
     ]
    }
   ],
   "source": [
    "shortestDistance = -1\n",
    "saveVector1= []\n",
    "saveVector2= []\n",
    "\n",
    "for vector1 in answer: \n",
    "    for vector2 in answer: \n",
    "        if (vector1 != vector2):\n",
    "            if ((mDistance(vector1, vector2) < shortestDistance) or shortestDistance <0 ):\n",
    "                shortestDistance = mDistance(vector1, vector2)\n",
    "                saveVector1 = vector1\n",
    "                saveVector2 = vector2\n",
    "\n",
    "print(saveVector1)\n",
    "print(saveVector2)\n",
    "print(shortestDistance)\n",
    "\n",
    "print(\"These vectors correspond to \\\"hello Claude\\\" and \\\"hello Bob\\\".\")"
   ]
  },
  {
   "cell_type": "markdown",
   "metadata": {},
   "source": [
    "#### Part 3 Challenge"
   ]
  },
  {
   "cell_type": "markdown",
   "metadata": {},
   "source": [
    "Given a set of graphs $\\mathcal{G}$, each graph $G \\in \\mathcal{G}$ is defined over the same set of nodes $V$. The graphs are represented by their adjacency matrices, which are 2D arrays where each element indicates whether a pair of nodes is connected by an edge.\n",
    "\n",
    "Your task is to compute the pairwise distances between these graphs based on a specific distance metric. The distance $d(G, G')$ between two graphs $G = (V, E)$ and $G' = (V, E')$ is defined as the sum of the number of edges in $G$ but not in $G'$, and the number of edges in $G'$ but not in $G$. Mathematically, this can be expressed as:\n",
    "\n",
    "$$\n",
    "d(G, G') = |E \\setminus E'| + |E' \\setminus E|.\n",
    "$$\n",
    "\n",
    "##### Requirements:\n",
    "1. **Input**: Should take a list of 2D numpy arrays as input. Each array represents the adjacency matrix of a graph.\n",
    "\n",
    "2. **Output**: Should output a pairwise distance matrix. If there are $n$ graphs in the input list, the output should be an $n \\times n$ matrix where the entry at position $(i, j)$ represents the distance between the $i^{th}$ and $j^{th}$ graph."
   ]
  },
  {
   "cell_type": "code",
   "execution_count": 119,
   "metadata": {},
   "outputs": [
    {
     "name": "stdout",
     "output_type": "stream",
     "text": [
      "[[ 0. 11. 11.]\n",
      " [11.  0.  0.]\n",
      " [11.  0.  0.]]\n"
     ]
    }
   ],
   "source": [
    "#Input Examples \n",
    "\n",
    "import numpy as np\n",
    "\n",
    "a = np.array([[0, 0, 1, 1, 0, 0], [0, 0, 1, 1, 0, 1], [1, 1, 0, 0, 1, 0], [1, 1, 0, 0, 0, 1], [0, 0, 1, 0, 0, 1], [1, 1, 0, 1, 1, 0]])\n",
    "b = np.array([[0, 0, 1, 1, 0, 0], [0, 0, 1, 1, 0, 1], [1, 1, 0, 0, 1, 0], [1, 1, 0, 0, 0, 1], [0, 1, 0, 1, 1, 0],[0, 0, 1, 0, 0, 1]])\n",
    "c = np.array([[0, 0, 1, 1, 0, 0], [0, 0, 1, 1, 0, 1], [1, 1, 0, 0, 1, 0], [1, 1, 0, 0, 0, 1], [0, 1, 0, 1, 1, 0],[0, 0, 1, 0, 0, 1]])\n",
    "someList = [a,b,c]\n",
    "\n",
    "\n",
    "#Our Program \n",
    "def myfunc(gList):\n",
    "    length = len (gList) #Get Length of output matrix, the length of the graphs list\n",
    "    answer = np.zeros((length,length)) #Create answer matrix\n",
    "    \n",
    "    #Itterate through all of the graphs\n",
    "    for i in range (0,len(gList)-1):\n",
    "        for j in range (i+1, len(gList)):\n",
    "            graph1 = gList[i]\n",
    "            graph2 = gList[j]\n",
    "            \n",
    "            edgeSum = 0 #Create edge counter\n",
    "            \n",
    "            #itterate through both selected graphs and count mutually exclusive edges\n",
    "            for k in range (len(graph1)):\n",
    "                for l in range (len(graph1)):\n",
    "                    if ((graph1[k][l] == 1 and graph2[k][l] == 0) or (graph1[k][l] == 0 and graph2[k][l] == 1)):\n",
    "                        edgeSum = edgeSum + 1\n",
    "            \n",
    "            #Add our count to our answer matrix\n",
    "            answer[i,j] = edgeSum\n",
    "            answer[j,i] = edgeSum\n",
    "    \n",
    "    return(answer)\n",
    "                \n",
    "print(myfunc(someList))\n"
   ]
  },
  {
   "cell_type": "code",
   "execution_count": null,
   "metadata": {},
   "outputs": [],
   "source": []
  }
 ],
 "metadata": {
  "kernelspec": {
   "display_name": "Python 3 (ipykernel)",
   "language": "python",
   "name": "python3"
  },
  "language_info": {
   "codemirror_mode": {
    "name": "ipython",
    "version": 3
   },
   "file_extension": ".py",
   "mimetype": "text/x-python",
   "name": "python",
   "nbconvert_exporter": "python",
   "pygments_lexer": "ipython3",
   "version": "3.11.4"
  },
  "vscode": {
   "interpreter": {
    "hash": "76ca05dc3ea24b2e3b98cdb7774adfbb40773424bf5109b477fd793f623715af"
   }
  }
 },
 "nbformat": 4,
 "nbformat_minor": 2
}
