{
 "cells": [
  {
   "cell_type": "markdown",
   "metadata": {},
   "source": [
    "# Worksheet 03\n",
    "\n",
    "Name:  Prathmesh Sonawane\n",
    "\n",
    "UID: U39215370\n",
    "\n",
    "### Topics\n",
    "\n",
    "- Intro to DS\n",
    "\n",
    "### Linear Algebra Review\n",
    "\n",
    "If you need a linear algebra review, please read through the [following pdf](https://github.com/gallettilance/CS506-Spring2023/raw/main/worksheets/lecture_03_linear_algebra_review.pdf) before next class\n",
    "\n",
    "### Intro to Data Science\n",
    "\n",
    "a) what property must a hypothesis have?"
   ]
  },
  {
   "cell_type": "markdown",
   "metadata": {},
   "source": [
    "A hypothesis must define a ruleset that, given examples, results in both positive and negative results. In other words, a hypothesis must be falsifiable. "
   ]
  },
  {
   "cell_type": "markdown",
   "metadata": {},
   "source": [
    "b) what examples would you have wanted to try?"
   ]
  },
  {
   "cell_type": "markdown",
   "metadata": {},
   "source": [
    "I would have tried examples that did not have the form (x, x+2, x+4) but had other similarities to the examples that were positive according to the ruleset. For example, I could have used an example that followed (x, x+10, x+20) to see if it was accepted by the rules. If it was, we would know that (x, x+2, x+4) was not the correct rule, allowing us to guess another hypothesis. In addition, I would have liked to try examples that were partially or completely filled with negative values, further testing if those examples had different results than those with partially or completely positive values. This would allow me to figure out more specifically what our rules were, such as if the numbers had to be ascending positively or negatively. "
   ]
  },
  {
   "cell_type": "markdown",
   "metadata": {},
   "source": [
    "c) Poll 1"
   ]
  },
  {
   "cell_type": "markdown",
   "metadata": {},
   "source": [
    "For Poll 1, I decided to go with the first option from what I observed by the participant examples. I chose this answer because I noticed that all the options that “followed the rule” had the pattern (x, x+2, x+4). Thus, with no other information, I decided to choose (100, 102, 104) since this option followed the rule. "
   ]
  },
  {
   "cell_type": "markdown",
   "metadata": {},
   "source": [
    "d) Given the hypothesis (x, 2x, 3x), for each of the following, determine whether they are positive or negative examples:\n",
    "\n",
    "- (2, 4, 6)\n",
    "- (6, 8 , 10)\n",
    "- (1, 3, 5)"
   ]
  },
  {
   "cell_type": "markdown",
   "metadata": {},
   "source": [
    "1) Positive since (2,4,6) follows the rule of (x, 2x, 3x) when x = 2\n",
    "2) Negative since (6,8,10) does not follow the rule of (x, 2x, 3x). If x = 6, 2x = 12, but 8!=12\n",
    "3) Negative since (1,3,5) does not follow the rule of (x,2x,3x). if x = 1, 2x = 2, but 3!=2"
   ]
  },
  {
   "cell_type": "markdown",
   "metadata": {},
   "source": [
    "e) Poll 2"
   ]
  },
  {
   "cell_type": "markdown",
   "metadata": {},
   "source": [
    "For poll 2, I should have chosen the last option, that being (1,2,3). So far, we have had a lot of positive examples that pass our hypothesis. However, to better understand if our hypothesis is right, it makes sense to also test your hypothesis against examples you know should be false. Thus, given the hypothesis we had, we should choose (1,2,3) to see if the result is indeed negative, making our claim that our hypothesis is right better. "
   ]
  },
  {
   "cell_type": "markdown",
   "metadata": {},
   "source": [
    "f) Describe steps of a Data Science Workflow"
   ]
  },
  {
   "cell_type": "markdown",
   "metadata": {},
   "source": [
    "In the Data-Science workflow, we first start to process the data, usually involving the cleaning of data. Next, we explore that data to find simple connections between different data that you may have. In this stage, a data scientist should understand the basic relationships between their data and understand what data they have. Next, we extract features from the data. That means figuring out what features (or variables) you will utilize to find deeper relationships with and feed to your model. Lastly, we create our model which often requires a user to submit their features to a model to represent data and their relationship with other data. "
   ]
  },
  {
   "cell_type": "markdown",
   "metadata": {},
   "source": [
    "g) Give a real world example for each of the following data types:"
   ]
  },
  {
   "cell_type": "markdown",
   "metadata": {},
   "source": [
    "- record : noSQL Database that holds the information of a single customer, including their name, age, and spending in a given store.\n",
    "\n",
    "- graph: Clustering webpages or conducting data science on data regarding webpages and how they are linked to eachother.\n",
    "\n",
    "- image: A picture of a dog uploaded to a program that figures out what the topic of the image is based on machine learning by using its pixels (stored in a 2D array). \n",
    "\n",
    "- text: Multiple text files are inputted to a program that analyzes how many times a certain word is seen in each file. "
   ]
  },
  {
   "cell_type": "markdown",
   "metadata": {},
   "source": [
    "h) Give a real world example of unsupervised learning"
   ]
  },
  {
   "cell_type": "markdown",
   "metadata": {},
   "source": [
    "One example of unsupervised learning is the process of using clustering to figure out what demographics of a certain customer database made similar product purchases. This would be helpful if a company wanted to provide personal ads to certain demographics. In doing so, clustering would divide unlabeled customer data into different groups (or clusters), leading to new information regarding who buys what. "
   ]
  },
  {
   "cell_type": "markdown",
   "metadata": {},
   "source": [
    "i) Give a real world example of supervised learning"
   ]
  },
  {
   "cell_type": "markdown",
   "metadata": {},
   "source": [
    "One example of supervised learning is using regression on housing data to figure out expected house prices in the near future. Using data such as population, population growth, location, housing costs, and other related data, a user can use regression to train a model to predict the price of a given house in a given location in the future. "
   ]
  },
  {
   "cell_type": "code",
   "execution_count": null,
   "metadata": {},
   "outputs": [],
   "source": []
  },
  {
   "cell_type": "code",
   "execution_count": null,
   "metadata": {},
   "outputs": [],
   "source": []
  }
 ],
 "metadata": {
  "kernelspec": {
   "display_name": "Python 3 (ipykernel)",
   "language": "python",
   "name": "python3"
  },
  "language_info": {
   "codemirror_mode": {
    "name": "ipython",
    "version": 3
   },
   "file_extension": ".py",
   "mimetype": "text/x-python",
   "name": "python",
   "nbconvert_exporter": "python",
   "pygments_lexer": "ipython3",
   "version": "3.11.4"
  },
  "vscode": {
   "interpreter": {
    "hash": "e7370f93d1d0cde622a1f8e1c04877d8463912d04d973331ad4851f04de6915a"
   }
  }
 },
 "nbformat": 4,
 "nbformat_minor": 2
}
